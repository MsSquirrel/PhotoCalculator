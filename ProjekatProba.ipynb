{
 "cells": [
  {
   "cell_type": "code",
   "execution_count": 1,
   "metadata": {
    "collapsed": true
   },
   "outputs": [],
   "source": [
    "%matplotlib inline\n",
    "import cv2\n",
    "import collections\n",
    "import numpy as np\n",
    "import scipy as sc\n",
    "import matplotlib.pyplot as plt\n",
    "from scipy.spatial import distance\n",
    "import wolframalpha\n",
    "# k-means\n",
    "from sklearn.cluster import KMeans\n",
    "\n",
    "# keras\n",
    "from keras.models import Sequential\n",
    "from keras.layers.core import Dense,Activation\n",
    "from keras.optimizers import SGD\n",
    "\n",
    "import matplotlib.pylab as pylab\n",
    "pylab.rcParams['figure.figsize'] = 16, 12 # za prikaz većih slika i plotova, zakomentarisati ako nije potrebno"
   ]
  },
  {
   "cell_type": "code",
   "execution_count": 44,
   "metadata": {
    "collapsed": false
   },
   "outputs": [],
   "source": [
    "def load_image(path):\n",
    "    return cv2.cvtColor(cv2.imread(path), cv2.COLOR_BGR2RGB)\n",
    "def image_gray(image):\n",
    "    return cv2.cvtColor(image, cv2.COLOR_RGB2GRAY)\n",
    "def image_bin(image_gs):\n",
    "    ret,image_bin = cv2.threshold(image_gs, 130, 255, cv2.THRESH_BINARY)\n",
    "    return image_bin\n",
    "def image_bin_adaptive(image_gs):\n",
    "    image_bin = cv2.adaptiveThreshold(image_gs, 255, cv2.ADAPTIVE_THRESH_MEAN_C, cv2.THRESH_BINARY, 35, 10)\n",
    "    return image_bin\n",
    "def invert(image):\n",
    "    return 255-image\n",
    "def display_image(image, color= False):\n",
    "    if color:\n",
    "        plt.imshow(image)\n",
    "    else:\n",
    "        plt.imshow(image, 'gray')\n",
    "def dilate(image):\n",
    "    kernel = np.ones((6,6)) # strukturni element 3x3 blok\n",
    "    return cv2.dilate(image, kernel, iterations=1)\n",
    "def erode(image):\n",
    "    kernel = np.ones((6,6)) # strukturni element 3x3 blok\n",
    "    return cv2.erode(image, kernel, iterations=1)\n",
    "\n",
    "#Funkcionalnost implementirana u V2\n",
    "def resize_region(region):\n",
    "    resized = cv2.resize(region,(28,28), interpolation = cv2.INTER_NEAREST)\n",
    "    return resized\n",
    "def scale_to_range(image):\n",
    "    return image / 255\n",
    "def matrix_to_vector(image):\n",
    "    return image.flatten()\n",
    "def prepare_for_ann(regions):\n",
    "    ready_for_ann = []\n",
    "    for region in regions:\n",
    "        ready_for_ann.append(matrix_to_vector(scale_to_range(region)))\n",
    "    return ready_for_ann\n",
    "def convert_output(outputs):\n",
    "    return np.eye(len(outputs))\n",
    "def winner(output):\n",
    "    return max(enumerate(output), key=lambda x: x[1])[0]\n",
    "\n",
    "def sredi_izlaz(outputs):\n",
    "    izlaz = np.zeros((100,10))\n",
    "    for i in range(0,10):\n",
    "        izlaz[i][0] = 1\n",
    "    for i in range(10,20):\n",
    "        izlaz[i][1] = 1  \n",
    "    for i in range(20,30):\n",
    "        izlaz[i][2] = 1\n",
    "    for i in range(30,40):\n",
    "        izlaz[i][3] = 1\n",
    "    for i in range(40, 50):\n",
    "        izlaz[i][4] = 1\n",
    "    for i in range(50, 60):\n",
    "        izlaz[i][5] = 1\n",
    "    for i in range(60, 70):\n",
    "        izlaz[i][6] = 1\n",
    "    for i in range(70, 80):\n",
    "        izlaz[i][7] = 1\n",
    "    for i in range(80, 90):\n",
    "        izlaz[i][8] = 1    \n",
    "    for i in range(90, 100):\n",
    "        izlaz[i][9] = 1\n",
    "    return izlaz"
   ]
  },
  {
   "cell_type": "code",
   "execution_count": 3,
   "metadata": {
    "collapsed": true
   },
   "outputs": [],
   "source": [
    "def konture(image_orig, image_bin):\n",
    "    \n",
    "    contours, hierarchy = cv2.findContours(image_bin.copy(),cv2.RETR_TREE, cv2.CHAIN_APPROX_SIMPLE)\n",
    "     \n",
    "    sorted_regions = []\n",
    "    regions_dic = {}\n",
    "    i = 0\n",
    "    \n",
    "    for contour in contours:\n",
    "        if(hierarchy[0][i][3]==0):\n",
    "            x,y,w,h = cv2.boundingRect(contour)\n",
    "            region = image_bin[y:y+h+1,x:x+w+1]\n",
    "            regions_dic[x] = resize_region(region)       \n",
    "            cv2.rectangle(image_orig,(x,y),(x+w,y+h),(0,255,0),2)\n",
    "        i=i+1\n",
    "    \n",
    "    sorted_regions_dic = collections.OrderedDict(sorted(regions_dic.items()))\n",
    "    sorted_regions = sorted_regions_dic.values()\n",
    "    # sortirati sve regione po x osi (sa leva na desno) i smestiti u promenljivu sorted_regions\n",
    "    return image_orig, sorted_regions   "
   ]
  },
  {
   "cell_type": "code",
   "execution_count": 5,
   "metadata": {
    "collapsed": true
   },
   "outputs": [],
   "source": [
    "def create_ann():\n",
    "    \n",
    "    ann = Sequential()\n",
    "    ann.add(Dense(128, input_dim=784, activation='sigmoid'))\n",
    "    ann.add(Dense(10, activation='sigmoid'))\n",
    "    return ann\n",
    "\n",
    "def train_ann(ann, X_train, y_train):\n",
    "   \n",
    "    X_train = np.array(X_train, np.float32) \n",
    "    y_train = np.array(y_train, np.float32) \n",
    "   \n",
    "    sgd = SGD(lr=0.01, momentum=0.9)\n",
    "    ann.compile(loss='mean_squared_error', optimizer=sgd)\n",
    "\n",
    "    ann.fit(X_train, y_train, nb_epoch=2000, batch_size=1, verbose = 0, shuffle=False, show_accuracy = False) \n",
    "      \n",
    "    return ann\n",
    "\n",
    "\n",
    "def display_result(outputs, alphabet):\n",
    "\n",
    "    result = []\n",
    "    for output in outputs:\n",
    "        result.append(alphabet[winner(output)])\n",
    "    return result"
   ]
  },
  {
   "cell_type": "code",
   "execution_count": 9,
   "metadata": {
    "collapsed": true
   },
   "outputs": [],
   "source": [
    "digit_0 = ['0']*10\n",
    "digit_1 = ['1']*10\n",
    "digit_2 = ['2']*10\n",
    "digit_3 = ['3']*10\n",
    "digit_4 = ['4']*10\n",
    "digit_5 = ['5']*10\n",
    "digit_6 = ['6']*10\n",
    "digit_7 = ['7']*10\n",
    "digit_8 = ['8']*10\n",
    "digit_9 = ['9']*10\n",
    "digits = digit_0 + digit_1 + digit_2+ digit_3+digit_4+digit_5+digit_6+digit_7+digit_8+digit_9\n",
    "\n",
    "images_0 = []\n",
    "images_1 = []\n",
    "images_2 = []\n",
    "images_3 = []\n",
    "images_4 = []\n",
    "images_5 = []\n",
    "images_6 = []\n",
    "images_7 = []\n",
    "images_8 = []\n",
    "images_9 = []\n",
    "\n",
    "for i in range(0,10):\n",
    "    img_suf = '_'+str(i)\n",
    "    naziv = 'cifre/digit_0/nula'+img_suf+'.bmp'\n",
    "    slicica = image_bin(image_gray(load_image(naziv)))\n",
    "    slicica = resize_region(slicica)\n",
    "    images_0.append(slicica)\n",
    "\n",
    "    \n",
    "for i in range(0,10):\n",
    "    img_suf = '_'+str(i)\n",
    "    naziv = 'cifre/digit_1/jedan'+img_suf+'.bmp'\n",
    "    slicica = image_bin(image_gray(load_image(naziv)))\n",
    "    slicica = resize_region(slicica)\n",
    "    images_1.append(slicica)    \n",
    "\n",
    "for i in range(0,10):\n",
    "    img_suf = '_'+str(i)\n",
    "    naziv = 'cifre/digit_2/dva'+img_suf+'.bmp'\n",
    "    slicica = image_bin(image_gray(load_image(naziv)))\n",
    "    slicica = resize_region(slicica)\n",
    "    images_2.append(slicica) \n",
    "    \n",
    "for i in range(0,10):\n",
    "    img_suf = '_'+str(i)\n",
    "    naziv = 'cifre/digit_3/tri'+img_suf+'.bmp'\n",
    "    slicica = image_bin(image_gray(load_image(naziv)))\n",
    "    slicica = resize_region(slicica)\n",
    "    images_3.append(slicica) \n",
    "    \n",
    "for i in range(0,10):\n",
    "    img_suf = '_'+str(i)\n",
    "    naziv = 'cifre/digit_4/cetiri'+img_suf+'.bmp'\n",
    "    slicica = image_bin(image_gray(load_image(naziv)))\n",
    "    slicica = resize_region(slicica)\n",
    "    images_4.append(slicica) \n",
    "    \n",
    "for i in range(0,10):\n",
    "    img_suf = '_'+str(i)\n",
    "    naziv = 'cifre/digit_5/pet'+img_suf+'.bmp'\n",
    "    slicica = image_bin(image_gray(load_image(naziv)))\n",
    "    slicica = resize_region(slicica)\n",
    "    images_5.append(slicica) \n",
    "    \n",
    "for i in range(0,10):\n",
    "    img_suf = '_'+str(i)\n",
    "    naziv = 'cifre/digit_6/sest'+img_suf+'.bmp'\n",
    "    slicica = image_bin(image_gray(load_image(naziv)))\n",
    "    slicica = resize_region(slicica)\n",
    "    images_6.append(slicica) \n",
    "    \n",
    "for i in range(0,10):\n",
    "    img_suf = '_'+str(i)\n",
    "    naziv = 'cifre/digit_7/sedam'+img_suf+'.bmp'\n",
    "    slicica = image_bin(image_gray(load_image(naziv)))\n",
    "    slicica = resize_region(slicica)\n",
    "    images_7.append(slicica)     \n",
    "    \n",
    "for i in range(0,10):\n",
    "    img_suf = '_'+str(i)\n",
    "    naziv = 'cifre/digit_8/osam'+img_suf+'.bmp'\n",
    "    slicica = image_bin(image_gray(load_image(naziv)))\n",
    "    slicica = resize_region(slicica)\n",
    "    images_8.append(slicica) \n",
    "    \n",
    "for i in range(0,10):\n",
    "    img_suf = '_'+str(i)\n",
    "    naziv = 'cifre/digit_9/devet'+img_suf+'.bmp'\n",
    "    slicica = image_bin(image_gray(load_image(naziv)))\n",
    "    slicica = resize_region(slicica)\n",
    "    images_9.append(slicica) \n",
    "    \n",
    "images = images_0 + images_1 + images_2 + images_3 + images_4 + images_5 + images_6 + images_7 + images_8 + images_9"
   ]
  },
  {
   "cell_type": "code",
   "execution_count": 53,
   "metadata": {
    "collapsed": false
   },
   "outputs": [],
   "source": [
    "#izlaz = sredi_izlaz(digits)"
   ]
  },
  {
   "cell_type": "code",
   "execution_count": 54,
   "metadata": {
    "collapsed": false
   },
   "outputs": [
    {
     "name": "stdout",
     "output_type": "stream",
     "text": [
      "Gotovo obucavanje!\n"
     ]
    }
   ],
   "source": [
    "inputs = prepare_for_ann(images)\n",
    "outputs =  sredi_izlaz(digits)\n",
    "ann = create_ann()\n",
    "ann = train_ann(ann, inputs, outputs)\n",
    "print ('Gotovo obucavanje!')"
   ]
  },
  {
   "cell_type": "code",
   "execution_count": 65,
   "metadata": {
    "collapsed": false
   },
   "outputs": [
    {
     "data": {
      "image/png": "[encoded data removed]",
      "text/plain": [
       "<matplotlib.figure.Figure at 0x7f7621246310>"
      ]
     },
     "metadata": {},
     "output_type": "display_data"
    }
   ],
   "source": [
    "slika2 = load_image('images/img3.png')\n",
    "display_image(slika2)\n",
    "sli = image_bin_adaptive(image_gray(slika2))\n",
    "selektovani_regioni, cifre = konture(slika2.copy(), sli)\n",
    "brojevi = ['0', '1', '2', '3', '4', '5', '6', '7', '8', '9']"
   ]
  },
  {
   "cell_type": "code",
   "execution_count": 68,
   "metadata": {
    "collapsed": false
   },
   "outputs": [
    {
     "name": "stdout",
     "output_type": "stream",
     "text": [
      "['4', '8', '0', '9', '4', '6', '7']\n"
     ]
    }
   ],
   "source": [
    "test_inputs = prepare_for_ann(cifre)\n",
    "result = ann.predict(np.array(test_inputs, np.float32))\n",
    "print display_result(result, brojevi)"
   ]
  }
 ],
 "metadata": {
  "kernelspec": {
   "display_name": "Python 2",
   "language": "python",
   "name": "python2"
  },
  "language_info": {
   "codemirror_mode": {
    "name": "ipython",
    "version": 2
   },
   "file_extension": ".py",
   "mimetype": "text/x-python",
   "name": "python",
   "nbconvert_exporter": "python",
   "pygments_lexer": "ipython2",
   "version": "2.7.10"
  }
 },
 "nbformat": 4,
 "nbformat_minor": 0
}
